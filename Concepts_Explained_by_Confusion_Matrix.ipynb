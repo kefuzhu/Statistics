{
 "cells": [
  {
   "cell_type": "markdown",
   "id": "7a5b1d9f",
   "metadata": {},
   "source": [
    "# Concepts that can be explained by a confusion matrix\n",
    "\n",
    "Consider the following example:\n",
    "\n",
    "|                          | Have Cancer | DO NOT Have Cancer |   |   |\n",
    "|--------------------------|-------------|--------------------|---|---|\n",
    "| Have Mutated Gene        | 23          | 117                |   |   |\n",
    "| DO NOT Have Mutated Gene | 6           | 210                |   |   |\n",
    "|                          |             |                    |   |   |\n",
    "\n",
    "- Given that a person has the mutated gene, the **odds** that they have cancer are $\\frac{23}{117}$\n",
    "- The odds ratio is $\\frac{23/117}{6/210} \\approx 6.88$, meaning that the odds are 6.88 times greater that someone with the mutated gene will also have cancer. The **Log Odds** is $log(6.88) \\approx 1.93$\n",
    "-"
   ]
  },
  {
   "cell_type": "code",
   "execution_count": null,
   "id": "948a7a15",
   "metadata": {},
   "outputs": [],
   "source": []
  }
 ],
 "metadata": {
  "kernelspec": {
   "display_name": "Python 3 (ipykernel)",
   "language": "python",
   "name": "python3"
  },
  "language_info": {
   "codemirror_mode": {
    "name": "ipython",
    "version": 3
   },
   "file_extension": ".py",
   "mimetype": "text/x-python",
   "name": "python",
   "nbconvert_exporter": "python",
   "pygments_lexer": "ipython3",
   "version": "3.9.7"
  }
 },
 "nbformat": 4,
 "nbformat_minor": 5
}
